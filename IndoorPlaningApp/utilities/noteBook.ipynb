{
 "cells": [
  {
   "cell_type": "code",
   "execution_count": 3,
   "metadata": {},
   "outputs": [],
   "source": [
    "import pandas as pd\n",
    "dataset=pd.read_excel('/home/marc/Documents/Database OCM/OrangeCM_3G.xlsx')  \n"
   ]
  },
  {
   "cell_type": "code",
   "execution_count": 4,
   "metadata": {},
   "outputs": [
    {
     "data": {
      "text/html": [
       "<div>\n",
       "<style scoped>\n",
       "    .dataframe tbody tr th:only-of-type {\n",
       "        vertical-align: middle;\n",
       "    }\n",
       "\n",
       "    .dataframe tbody tr th {\n",
       "        vertical-align: top;\n",
       "    }\n",
       "\n",
       "    .dataframe thead th {\n",
       "        text-align: right;\n",
       "    }\n",
       "</style>\n",
       "<table border=\"1\" class=\"dataframe\">\n",
       "  <thead>\n",
       "    <tr style=\"text-align: right;\">\n",
       "      <th></th>\n",
       "      <th>Site Code</th>\n",
       "      <th>Longitude</th>\n",
       "      <th>Latitude</th>\n",
       "      <th>Hardware</th>\n",
       "      <th>Town</th>\n",
       "      <th>Site Name</th>\n",
       "      <th>Type</th>\n",
       "      <th>RNCID</th>\n",
       "      <th>RNC Name</th>\n",
       "      <th>WBTS Name</th>\n",
       "      <th>...</th>\n",
       "      <th>RAC</th>\n",
       "      <th>URA ID</th>\n",
       "      <th>PSC</th>\n",
       "      <th>Sector Name.1</th>\n",
       "      <th>DL UARFCN</th>\n",
       "      <th>Azimuth</th>\n",
       "      <th>E-tilt</th>\n",
       "      <th>M-tilt</th>\n",
       "      <th>Antenna Height</th>\n",
       "      <th>Program</th>\n",
       "    </tr>\n",
       "  </thead>\n",
       "  <tbody>\n",
       "    <tr>\n",
       "      <th>9198</th>\n",
       "      <td>LIT_106</td>\n",
       "      <td>9.736042</td>\n",
       "      <td>4.091278</td>\n",
       "      <td>Nokia</td>\n",
       "      <td>Douala</td>\n",
       "      <td>Denver</td>\n",
       "      <td>Macro</td>\n",
       "      <td>307</td>\n",
       "      <td>mcRNC_MakepePlaTech1</td>\n",
       "      <td>Denver_U_LIT_106</td>\n",
       "      <td>...</td>\n",
       "      <td>113</td>\n",
       "      <td>122</td>\n",
       "      <td>235.0</td>\n",
       "      <td>NaN</td>\n",
       "      <td>10712</td>\n",
       "      <td>160</td>\n",
       "      <td>9</td>\n",
       "      <td>0</td>\n",
       "      <td>19</td>\n",
       "      <td>Mosaic swap Douala</td>\n",
       "    </tr>\n",
       "  </tbody>\n",
       "</table>\n",
       "<p>1 rows × 28 columns</p>\n",
       "</div>"
      ],
      "text/plain": [
       "     Site Code  Longitude  Latitude Hardware    Town Site Name   Type  RNCID  \\\n",
       "9198   LIT_106   9.736042  4.091278    Nokia  Douala    Denver  Macro    307   \n",
       "\n",
       "                  RNC Name         WBTS Name  ...  RAC URA ID    PSC  \\\n",
       "9198  mcRNC_MakepePlaTech1  Denver_U_LIT_106  ...  113    122  235.0   \n",
       "\n",
       "      Sector Name.1  DL UARFCN Azimuth  E-tilt  M-tilt  Antenna Height  \\\n",
       "9198            NaN      10712     160       9       0              19   \n",
       "\n",
       "                 Program  \n",
       "9198  Mosaic swap Douala  \n",
       "\n",
       "[1 rows x 28 columns]"
      ]
     },
     "execution_count": 4,
     "metadata": {},
     "output_type": "execute_result"
    }
   ],
   "source": [
    "dataset[(dataset['RNCID'] == 307) & (dataset['CellID'] == 30345)]"
   ]
  },
  {
   "cell_type": "code",
   "execution_count": 11,
   "metadata": {},
   "outputs": [
    {
     "data": {
      "text/plain": [
       "Site Code          object\n",
       "Longitude         float64\n",
       "Latitude          float64\n",
       "Hardware           object\n",
       "Town               object\n",
       "Site Name          object\n",
       "Type               object\n",
       "RNC ID              int64\n",
       "RNC Name           object\n",
       "WBTS Name          object\n",
       "WBTS ID             int64\n",
       "Cell Name          object\n",
       "Cell ID           float64\n",
       "LCRID             float64\n",
       "LCR Suffix          int64\n",
       "Sector Name        object\n",
       "Sector ID           int64\n",
       "LAC                 int64\n",
       "RAC                 int64\n",
       "URA ID              int64\n",
       "PSC               float64\n",
       "Sector Name.1      object\n",
       "DL UARFCN           int64\n",
       "Azimuth            object\n",
       "E-tilt             object\n",
       "M-tilt             object\n",
       "Antenna Height     object\n",
       "Program            object\n",
       "dtype: object"
      ]
     },
     "execution_count": 11,
     "metadata": {},
     "output_type": "execute_result"
    }
   ],
   "source": [
    "head.dtypes"
   ]
  },
  {
   "cell_type": "code",
   "execution_count": null,
   "metadata": {},
   "outputs": [],
   "source": []
  }
 ],
 "metadata": {
  "interpreter": {
   "hash": "42a596d4deeabe370ed2c2487fc38f343bcf3286a79643425417a1e69228f566"
  },
  "kernelspec": {
   "display_name": "Python 3.9.7 ('base')",
   "language": "python",
   "name": "python3"
  },
  "language_info": {
   "codemirror_mode": {
    "name": "ipython",
    "version": 3
   },
   "file_extension": ".py",
   "mimetype": "text/x-python",
   "name": "python",
   "nbconvert_exporter": "python",
   "pygments_lexer": "ipython3",
   "version": "3.9.7"
  },
  "orig_nbformat": 4
 },
 "nbformat": 4,
 "nbformat_minor": 2
}
