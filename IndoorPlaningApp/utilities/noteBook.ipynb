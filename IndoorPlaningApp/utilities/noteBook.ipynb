{
 "cells": [
  {
   "cell_type": "code",
   "execution_count": 13,
   "metadata": {},
   "outputs": [
    {
     "name": "stdout",
     "output_type": "stream",
     "text": [
      "         CI Site Code                      BCFname          Site Name  \\\n",
      "0     17171   CTR_152        Nkoteng-IHS_G_CTR_152        Nkoteng-IHS   \n",
      "1      6842   SUO_033        Buea-Entree_G_SUO_033        Buea-Entree   \n",
      "2      5082   SUD_005           Niete-FH_G_SUD_005           Niete-FH   \n",
      "3      6192   NRO_015            Fundong_G_NRO_015            Fundong   \n",
      "4     20749   NRO_227         Bda-Chinde_D_NRO_227         Bda-Chinde   \n",
      "...     ...       ...                          ...                ...   \n",
      "8760    176   CTR_838         Afanoya-II_G_CTR_838         Afanoya-II   \n",
      "8761    177   CTR_838         Afanoya-II_G_CTR_838         Afanoya-II   \n",
      "8762    133   NDR_178  Guider-Djamboutou_G_NRD_178  Guider-Djamboutou   \n",
      "8763    134   NDR_178  Guider-Djamboutou_G_NRD_178  Guider-Djamboutou   \n",
      "8764    135   NDR_178  Guider-Djamboutou_G_NRD_178  Guider-Djamboutou   \n",
      "\n",
      "             BTSName  CellNameId  SectorId Sitecode_cellid Sitecode_sectorid  \\\n",
      "0        NKOTENGIHS1           1         1       CTR_152_1         CTR_152_1   \n",
      "1        BUEAENTREE2           2         2       SUO_033_2         SUO_033_2   \n",
      "2           NIETEFH2           2         2       SUD_005_2         SUD_005_2   \n",
      "3           FUNDONG2           2         2       NRO_015_2         NRO_015_2   \n",
      "4         BDACHINDE8           8         3       NRO_227_8         NRO_227_3   \n",
      "...              ...         ...       ...             ...               ...   \n",
      "8760      AFANOYAII2           2         2       CTR_838_2         CTR_838_2   \n",
      "8761      AFANOYAII3           3         3       CTR_838_3         CTR_838_3   \n",
      "8762  GUIDERDJMBTOU1           1         1       NDR_178_1         NDR_178_1   \n",
      "8763  GUIDERDJMBTOU2           2         2       NDR_178_2         NDR_178_2   \n",
      "8764  GUIDERDJMBTOU3           3         3       NDR_178_3         NDR_178_3   \n",
      "\n",
      "     Sitecode_cellidDCS  ...           TCH List    CU2    CU3    CU4    CU5  \\\n",
      "0                   NaN  ...           119;117;  119.0  117.0    NaN    NaN   \n",
      "1                   NaN  ...        ;112;89;87;    NaN  112.0   89.0   87.0   \n",
      "2                   NaN  ...  ;119;117;122;124;    NaN  119.0  117.0  122.0   \n",
      "3                   NaN  ...     ;87;93;99;105;    NaN   87.0   93.0   99.0   \n",
      "4             NRO_227_8  ...      ;604;606;602;    NaN  604.0  606.0  602.0   \n",
      "...                 ...  ...                ...    ...    ...    ...    ...   \n",
      "8760                NaN  ...           117, 119  117.0  119.0    NaN    NaN   \n",
      "8761                NaN  ...           120, 123  120.0  123.0    NaN    NaN   \n",
      "8762                NaN  ...           118, 120  118.0  120.0    NaN    NaN   \n",
      "8763                NaN  ...           122, 124  122.0  124.0    NaN    NaN   \n",
      "8764                NaN  ...           119, 121  119.0  121.0    NaN    NaN   \n",
      "\n",
      "        CU6 CU7  CU8  CU9  Unnamed: 49  \n",
      "0       NaN NaN  NaN  NaN          NaN  \n",
      "1       NaN NaN  NaN  NaN          NaN  \n",
      "2     124.0 NaN  NaN  NaN          NaN  \n",
      "3     105.0 NaN  NaN  NaN          NaN  \n",
      "4       NaN NaN  NaN  NaN          NaN  \n",
      "...     ...  ..  ...  ...          ...  \n",
      "8760    NaN NaN  NaN  NaN          NaN  \n",
      "8761    NaN NaN  NaN  NaN          NaN  \n",
      "8762    NaN NaN  NaN  NaN          NaN  \n",
      "8763    NaN NaN  NaN  NaN          NaN  \n",
      "8764    NaN NaN  NaN  NaN          NaN  \n",
      "\n",
      "[8765 rows x 50 columns]\n"
     ]
    }
   ],
   "source": [
    "import pandas as pd\n",
    "pd.read_excel('sites.xlsx', index_col=0)  \n"
   ]
  },
  {
   "cell_type": "code",
   "execution_count": null,
   "metadata": {},
   "outputs": [],
   "source": []
  }
 ],
 "metadata": {
  "language_info": {
   "name": "python"
  },
  "orig_nbformat": 4
 },
 "nbformat": 4,
 "nbformat_minor": 2
}
