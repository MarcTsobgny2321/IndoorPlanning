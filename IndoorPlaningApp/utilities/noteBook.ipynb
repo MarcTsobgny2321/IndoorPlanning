{
 "cells": [
  {
   "cell_type": "code",
   "execution_count": 34,
   "metadata": {},
   "outputs": [],
   "source": [
    "import pandas as pd\n",
    "data=pd.read_excel('/home/marc/Documents/Database OCM/3G_Database_2021-08-25.xlsx')  \n"
   ]
  },
  {
   "cell_type": "code",
   "execution_count": 36,
   "metadata": {},
   "outputs": [
    {
     "data": {
      "text/plain": [
       "0        ADM_001\n",
       "1        ADM_001\n",
       "2        ADM_001\n",
       "3        ADM_001\n",
       "4        ADM_001\n",
       "          ...   \n",
       "18696    SUO_219\n",
       "18697    SUO_219\n",
       "18698    SUO_219\n",
       "18699    SUO_219\n",
       "18700    SUO_219\n",
       "Name: Site Code, Length: 18701, dtype: object"
      ]
     },
     "execution_count": 36,
     "metadata": {},
     "output_type": "execute_result"
    }
   ],
   "source": [
    "data['Site Code']\n",
    "\n"
   ]
  },
  {
   "cell_type": "code",
   "execution_count": null,
   "metadata": {},
   "outputs": [],
   "source": []
  }
 ],
 "metadata": {
  "interpreter": {
   "hash": "b5879f82cede03bb7bd3518e9a654ff7616f091ef877ef0732fe9bfa32e42a2d"
  },
  "kernelspec": {
   "display_name": "Python 3.9.7 ('env': venv)",
   "language": "python",
   "name": "python3"
  },
  "language_info": {
   "codemirror_mode": {
    "name": "ipython",
    "version": 3
   },
   "file_extension": ".py",
   "mimetype": "text/x-python",
   "name": "python",
   "nbconvert_exporter": "python",
   "pygments_lexer": "ipython3",
   "version": "3.9.7"
  },
  "orig_nbformat": 4
 },
 "nbformat": 4,
 "nbformat_minor": 2
}
